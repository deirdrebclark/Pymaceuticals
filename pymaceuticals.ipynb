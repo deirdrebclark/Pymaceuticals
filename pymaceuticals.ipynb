{
 "cells": [
  {
   "cell_type": "markdown",
   "metadata": {},
   "source": [
    "## Observations and Insights"
   ]
  },
  {
   "cell_type": "markdown",
   "metadata": {},
   "source": [
    "The sex appears to have not been a factor because the total count for each is very close.\n",
    "\n",
    "There are many outliers for the Infubinol and Ceftamin drug regimens, so we will need to review why there are outliers to determine if they should be kept, or dropped.\n",
    "\n",
    "Capmulin and Ramicane are the most promising as the average tumors are the least compared to the other drug regimens.\n"
   ]
  },
  {
   "cell_type": "markdown",
   "metadata": {},
   "source": [
    "## Dependencies and starter code"
   ]
  },
  {
   "cell_type": "code",
   "execution_count": 1,
   "metadata": {},
   "outputs": [
    {
     "data": {
      "text/html": [
       "<div>\n",
       "<style scoped>\n",
       "    .dataframe tbody tr th:only-of-type {\n",
       "        vertical-align: middle;\n",
       "    }\n",
       "\n",
       "    .dataframe tbody tr th {\n",
       "        vertical-align: top;\n",
       "    }\n",
       "\n",
       "    .dataframe thead th {\n",
       "        text-align: right;\n",
       "    }\n",
       "</style>\n",
       "<table border=\"1\" class=\"dataframe\">\n",
       "  <thead>\n",
       "    <tr style=\"text-align: right;\">\n",
       "      <th></th>\n",
       "      <th>Mouse ID</th>\n",
       "      <th>Drug Regimen</th>\n",
       "      <th>Sex</th>\n",
       "      <th>Age_months</th>\n",
       "      <th>Weight (g)</th>\n",
       "      <th>Timepoint</th>\n",
       "      <th>Tumor Volume (mm3)</th>\n",
       "      <th>Metastatic Sites</th>\n",
       "    </tr>\n",
       "  </thead>\n",
       "  <tbody>\n",
       "    <tr>\n",
       "      <td>0</td>\n",
       "      <td>k403</td>\n",
       "      <td>Ramicane</td>\n",
       "      <td>Male</td>\n",
       "      <td>21</td>\n",
       "      <td>16</td>\n",
       "      <td>0</td>\n",
       "      <td>45.000000</td>\n",
       "      <td>0</td>\n",
       "    </tr>\n",
       "    <tr>\n",
       "      <td>1</td>\n",
       "      <td>k403</td>\n",
       "      <td>Ramicane</td>\n",
       "      <td>Male</td>\n",
       "      <td>21</td>\n",
       "      <td>16</td>\n",
       "      <td>5</td>\n",
       "      <td>38.825898</td>\n",
       "      <td>0</td>\n",
       "    </tr>\n",
       "    <tr>\n",
       "      <td>2</td>\n",
       "      <td>k403</td>\n",
       "      <td>Ramicane</td>\n",
       "      <td>Male</td>\n",
       "      <td>21</td>\n",
       "      <td>16</td>\n",
       "      <td>10</td>\n",
       "      <td>35.014271</td>\n",
       "      <td>1</td>\n",
       "    </tr>\n",
       "    <tr>\n",
       "      <td>3</td>\n",
       "      <td>k403</td>\n",
       "      <td>Ramicane</td>\n",
       "      <td>Male</td>\n",
       "      <td>21</td>\n",
       "      <td>16</td>\n",
       "      <td>15</td>\n",
       "      <td>34.223992</td>\n",
       "      <td>1</td>\n",
       "    </tr>\n",
       "    <tr>\n",
       "      <td>4</td>\n",
       "      <td>k403</td>\n",
       "      <td>Ramicane</td>\n",
       "      <td>Male</td>\n",
       "      <td>21</td>\n",
       "      <td>16</td>\n",
       "      <td>20</td>\n",
       "      <td>32.997729</td>\n",
       "      <td>1</td>\n",
       "    </tr>\n",
       "    <tr>\n",
       "      <td>...</td>\n",
       "      <td>...</td>\n",
       "      <td>...</td>\n",
       "      <td>...</td>\n",
       "      <td>...</td>\n",
       "      <td>...</td>\n",
       "      <td>...</td>\n",
       "      <td>...</td>\n",
       "      <td>...</td>\n",
       "    </tr>\n",
       "    <tr>\n",
       "      <td>1888</td>\n",
       "      <td>z969</td>\n",
       "      <td>Naftisol</td>\n",
       "      <td>Male</td>\n",
       "      <td>9</td>\n",
       "      <td>30</td>\n",
       "      <td>25</td>\n",
       "      <td>63.145652</td>\n",
       "      <td>2</td>\n",
       "    </tr>\n",
       "    <tr>\n",
       "      <td>1889</td>\n",
       "      <td>z969</td>\n",
       "      <td>Naftisol</td>\n",
       "      <td>Male</td>\n",
       "      <td>9</td>\n",
       "      <td>30</td>\n",
       "      <td>30</td>\n",
       "      <td>65.841013</td>\n",
       "      <td>3</td>\n",
       "    </tr>\n",
       "    <tr>\n",
       "      <td>1890</td>\n",
       "      <td>z969</td>\n",
       "      <td>Naftisol</td>\n",
       "      <td>Male</td>\n",
       "      <td>9</td>\n",
       "      <td>30</td>\n",
       "      <td>35</td>\n",
       "      <td>69.176246</td>\n",
       "      <td>4</td>\n",
       "    </tr>\n",
       "    <tr>\n",
       "      <td>1891</td>\n",
       "      <td>z969</td>\n",
       "      <td>Naftisol</td>\n",
       "      <td>Male</td>\n",
       "      <td>9</td>\n",
       "      <td>30</td>\n",
       "      <td>40</td>\n",
       "      <td>70.314904</td>\n",
       "      <td>4</td>\n",
       "    </tr>\n",
       "    <tr>\n",
       "      <td>1892</td>\n",
       "      <td>z969</td>\n",
       "      <td>Naftisol</td>\n",
       "      <td>Male</td>\n",
       "      <td>9</td>\n",
       "      <td>30</td>\n",
       "      <td>45</td>\n",
       "      <td>73.867845</td>\n",
       "      <td>4</td>\n",
       "    </tr>\n",
       "  </tbody>\n",
       "</table>\n",
       "<p>1893 rows × 8 columns</p>\n",
       "</div>"
      ],
      "text/plain": [
       "     Mouse ID Drug Regimen   Sex  Age_months  Weight (g)  Timepoint  \\\n",
       "0        k403     Ramicane  Male          21          16          0   \n",
       "1        k403     Ramicane  Male          21          16          5   \n",
       "2        k403     Ramicane  Male          21          16         10   \n",
       "3        k403     Ramicane  Male          21          16         15   \n",
       "4        k403     Ramicane  Male          21          16         20   \n",
       "...       ...          ...   ...         ...         ...        ...   \n",
       "1888     z969     Naftisol  Male           9          30         25   \n",
       "1889     z969     Naftisol  Male           9          30         30   \n",
       "1890     z969     Naftisol  Male           9          30         35   \n",
       "1891     z969     Naftisol  Male           9          30         40   \n",
       "1892     z969     Naftisol  Male           9          30         45   \n",
       "\n",
       "      Tumor Volume (mm3)  Metastatic Sites  \n",
       "0              45.000000                 0  \n",
       "1              38.825898                 0  \n",
       "2              35.014271                 1  \n",
       "3              34.223992                 1  \n",
       "4              32.997729                 1  \n",
       "...                  ...               ...  \n",
       "1888           63.145652                 2  \n",
       "1889           65.841013                 3  \n",
       "1890           69.176246                 4  \n",
       "1891           70.314904                 4  \n",
       "1892           73.867845                 4  \n",
       "\n",
       "[1893 rows x 8 columns]"
      ]
     },
     "execution_count": 1,
     "metadata": {},
     "output_type": "execute_result"
    }
   ],
   "source": [
    "# Dependencies and Setup\n",
    "import matplotlib.pyplot as plt\n",
    "import pandas as pd\n",
    "import scipy.stats as st\n",
    "import numpy as np\n",
    "from sklearn.linear_model import LinearRegression\n",
    "\n",
    "# Study data files\n",
    "mouse_metadata = \"data/Mouse_metadata.csv\"\n",
    "study_results = \"data/Study_results.csv\"\n",
    "\n",
    "# Read the mouse data and the study results\n",
    "mouse_metadata = pd.read_csv(mouse_metadata)\n",
    "study_results = pd.read_csv(study_results)\n",
    "\n",
    "# Combine the data into a single dataset\n",
    "mouse_study_df = mouse_metadata.merge(study_results, how = 'inner', on = 'Mouse ID')\n",
    "mouse_study_df = pd.DataFrame(mouse_study_df)\n",
    "mouse_study_df"
   ]
  },
  {
   "cell_type": "markdown",
   "metadata": {},
   "source": [
    "## Summary statistics"
   ]
  },
  {
   "cell_type": "code",
   "execution_count": 2,
   "metadata": {},
   "outputs": [
    {
     "data": {
      "text/html": [
       "<div>\n",
       "<style scoped>\n",
       "    .dataframe tbody tr th:only-of-type {\n",
       "        vertical-align: middle;\n",
       "    }\n",
       "\n",
       "    .dataframe tbody tr th {\n",
       "        vertical-align: top;\n",
       "    }\n",
       "\n",
       "    .dataframe thead th {\n",
       "        text-align: right;\n",
       "    }\n",
       "</style>\n",
       "<table border=\"1\" class=\"dataframe\">\n",
       "  <thead>\n",
       "    <tr style=\"text-align: right;\">\n",
       "      <th></th>\n",
       "      <th>Avg Tumor Volume (mm3)</th>\n",
       "      <th>Median Tumor Volume (mm3)</th>\n",
       "      <th>Tumor Volume (mm3) Variance</th>\n",
       "      <th>Tumor Volume (mm3) Standard Dev</th>\n",
       "      <th>Tumor Volume (mm3) SEM</th>\n",
       "    </tr>\n",
       "    <tr>\n",
       "      <th>Drug Regimen</th>\n",
       "      <th></th>\n",
       "      <th></th>\n",
       "      <th></th>\n",
       "      <th></th>\n",
       "      <th></th>\n",
       "    </tr>\n",
       "  </thead>\n",
       "  <tbody>\n",
       "    <tr>\n",
       "      <td>Capomulin</td>\n",
       "      <td>40.675741</td>\n",
       "      <td>41.557809</td>\n",
       "      <td>24.947764</td>\n",
       "      <td>4.994774</td>\n",
       "      <td>0.329346</td>\n",
       "    </tr>\n",
       "    <tr>\n",
       "      <td>Ceftamin</td>\n",
       "      <td>52.591172</td>\n",
       "      <td>51.776157</td>\n",
       "      <td>39.290177</td>\n",
       "      <td>6.268188</td>\n",
       "      <td>0.469821</td>\n",
       "    </tr>\n",
       "    <tr>\n",
       "      <td>Infubinol</td>\n",
       "      <td>52.884795</td>\n",
       "      <td>51.820584</td>\n",
       "      <td>43.128684</td>\n",
       "      <td>6.567243</td>\n",
       "      <td>0.492236</td>\n",
       "    </tr>\n",
       "    <tr>\n",
       "      <td>Ketapril</td>\n",
       "      <td>55.235638</td>\n",
       "      <td>53.698743</td>\n",
       "      <td>68.553577</td>\n",
       "      <td>8.279709</td>\n",
       "      <td>0.603860</td>\n",
       "    </tr>\n",
       "    <tr>\n",
       "      <td>Naftisol</td>\n",
       "      <td>54.331565</td>\n",
       "      <td>52.509285</td>\n",
       "      <td>66.173479</td>\n",
       "      <td>8.134708</td>\n",
       "      <td>0.596466</td>\n",
       "    </tr>\n",
       "    <tr>\n",
       "      <td>Placebo</td>\n",
       "      <td>54.033581</td>\n",
       "      <td>52.288934</td>\n",
       "      <td>61.168083</td>\n",
       "      <td>7.821003</td>\n",
       "      <td>0.581331</td>\n",
       "    </tr>\n",
       "    <tr>\n",
       "      <td>Propriva</td>\n",
       "      <td>52.322552</td>\n",
       "      <td>50.854632</td>\n",
       "      <td>42.351070</td>\n",
       "      <td>6.507770</td>\n",
       "      <td>0.512884</td>\n",
       "    </tr>\n",
       "    <tr>\n",
       "      <td>Ramicane</td>\n",
       "      <td>40.216745</td>\n",
       "      <td>40.673236</td>\n",
       "      <td>23.486704</td>\n",
       "      <td>4.846308</td>\n",
       "      <td>0.320955</td>\n",
       "    </tr>\n",
       "    <tr>\n",
       "      <td>Stelasyn</td>\n",
       "      <td>54.233149</td>\n",
       "      <td>52.431737</td>\n",
       "      <td>59.450562</td>\n",
       "      <td>7.710419</td>\n",
       "      <td>0.573111</td>\n",
       "    </tr>\n",
       "    <tr>\n",
       "      <td>Zoniferol</td>\n",
       "      <td>53.236507</td>\n",
       "      <td>51.818479</td>\n",
       "      <td>48.533355</td>\n",
       "      <td>6.966589</td>\n",
       "      <td>0.516398</td>\n",
       "    </tr>\n",
       "  </tbody>\n",
       "</table>\n",
       "</div>"
      ],
      "text/plain": [
       "              Avg Tumor Volume (mm3)  Median Tumor Volume (mm3)  \\\n",
       "Drug Regimen                                                      \n",
       "Capomulin                  40.675741                  41.557809   \n",
       "Ceftamin                   52.591172                  51.776157   \n",
       "Infubinol                  52.884795                  51.820584   \n",
       "Ketapril                   55.235638                  53.698743   \n",
       "Naftisol                   54.331565                  52.509285   \n",
       "Placebo                    54.033581                  52.288934   \n",
       "Propriva                   52.322552                  50.854632   \n",
       "Ramicane                   40.216745                  40.673236   \n",
       "Stelasyn                   54.233149                  52.431737   \n",
       "Zoniferol                  53.236507                  51.818479   \n",
       "\n",
       "              Tumor Volume (mm3) Variance  Tumor Volume (mm3) Standard Dev  \\\n",
       "Drug Regimen                                                                 \n",
       "Capomulin                       24.947764                         4.994774   \n",
       "Ceftamin                        39.290177                         6.268188   \n",
       "Infubinol                       43.128684                         6.567243   \n",
       "Ketapril                        68.553577                         8.279709   \n",
       "Naftisol                        66.173479                         8.134708   \n",
       "Placebo                         61.168083                         7.821003   \n",
       "Propriva                        42.351070                         6.507770   \n",
       "Ramicane                        23.486704                         4.846308   \n",
       "Stelasyn                        59.450562                         7.710419   \n",
       "Zoniferol                       48.533355                         6.966589   \n",
       "\n",
       "              Tumor Volume (mm3) SEM  \n",
       "Drug Regimen                          \n",
       "Capomulin                   0.329346  \n",
       "Ceftamin                    0.469821  \n",
       "Infubinol                   0.492236  \n",
       "Ketapril                    0.603860  \n",
       "Naftisol                    0.596466  \n",
       "Placebo                     0.581331  \n",
       "Propriva                    0.512884  \n",
       "Ramicane                    0.320955  \n",
       "Stelasyn                    0.573111  \n",
       "Zoniferol                   0.516398  "
      ]
     },
     "execution_count": 2,
     "metadata": {},
     "output_type": "execute_result"
    }
   ],
   "source": [
    "# Generate a summary statistics table of mean, median, variance, standard deviation, and SEM of the tumor volume for each regimen\n",
    "tumor_df = mouse_study_df.sort_values(['Tumor Volume (mm3)'])\n",
    "summary_df = tumor_df.groupby('Drug Regimen').first()\n",
    "summary_df = summary_df.drop(columns = ['Mouse ID', 'Sex', 'Age_months','Weight (g)', 'Timepoint',\n",
    "                            'Tumor Volume (mm3)', 'Metastatic Sites'])\n",
    "\n",
    "summary_df['Avg Tumor Volume (mm3)'] = tumor_df.groupby('Drug Regimen')['Tumor Volume (mm3)'].mean()\n",
    "summary_df['Median Tumor Volume (mm3)'] = tumor_df.groupby('Drug Regimen')['Tumor Volume (mm3)'].median()\n",
    "summary_df['Tumor Volume (mm3) Variance'] = tumor_df.groupby('Drug Regimen')['Tumor Volume (mm3)'].var()\n",
    "summary_df['Tumor Volume (mm3) Standard Dev'] = tumor_df.groupby('Drug Regimen')['Tumor Volume (mm3)'].std()\n",
    "summary_df['Tumor Volume (mm3) SEM'] = tumor_df.groupby('Drug Regimen')['Tumor Volume (mm3)'].sem()\n",
    "summary_df\n"
   ]
  },
  {
   "cell_type": "markdown",
   "metadata": {},
   "source": [
    "## Bar plots"
   ]
  },
  {
   "cell_type": "code",
   "execution_count": 3,
   "metadata": {},
   "outputs": [
    {
     "data": {
      "text/plain": [
       "<matplotlib.axes._subplots.AxesSubplot at 0x2260f9f6608>"
      ]
     },
     "execution_count": 3,
     "metadata": {},
     "output_type": "execute_result"
    },
    {
     "data": {
      "image/png": "[encoded data removed]",
      "text/plain": [
       "<Figure size 432x288 with 1 Axes>"
      ]
     },
     "metadata": {
      "needs_background": "light"
     },
     "output_type": "display_data"
    }
   ],
   "source": [
    "# Generate a bar plot showing number of data points for each treatment regimen using pandas\n",
    "\n",
    "mice = (mouse_study_df.groupby('Drug Regimen')['Mouse ID'].count())\n",
    "#mice = mice.reset_index()\n",
    "\n",
    "y_axis = mice\n",
    "x_axis = np.arange(len(mice))\n",
    "\n",
    "mice.plot.bar(x = x_axis, y = y_axis, title = 'Data Points for each Regimen')\n",
    "\n"
   ]
  },
  {
   "cell_type": "code",
   "execution_count": 4,
   "metadata": {},
   "outputs": [
    {
     "data": {
      "text/plain": [
       "<function matplotlib.pyplot.show(*args, **kw)>"
      ]
     },
     "execution_count": 4,
     "metadata": {},
     "output_type": "execute_result"
    },
    {
     "data": {
      "image/png": "[encoded data removed]",
      "text/plain": [
       "<Figure size 432x288 with 1 Axes>"
      ]
     },
     "metadata": {
      "needs_background": "light"
     },
     "output_type": "display_data"
    }
   ],
   "source": [
    "# Generate a bar plot showing number of data points for each treatment regimen using pyplot\n",
    "\n",
    "mice = (mouse_study_df.groupby('Drug Regimen')['Mouse ID'].count())\n",
    "\n",
    "y_axis = mice\n",
    "x_axis = np.arange(0,len(mice))\n",
    "x_labels = ['Capomulin','Ceftamin', 'Infubinol', 'Ketapril', 'Naftisol', 'Placebo', 'Propriva',\n",
    "             'Ramicane', 'Stelasyn', 'Zoniferol']\n",
    "\n",
    "plt.bar(x_axis, y_axis)\n",
    "plt.xticks(x_axis, labels = x_labels, rotation = 'vertical')\n",
    "plt.title(\"Data Points for each Regimen\")\n",
    "plt.xlabel(\"Drug Regimen\")\n",
    "\n",
    "plt.show"
   ]
  },
  {
   "cell_type": "markdown",
   "metadata": {},
   "source": [
    "## Pie plots"
   ]
  },
  {
   "cell_type": "code",
   "execution_count": 5,
   "metadata": {},
   "outputs": [
    {
     "data": {
      "text/plain": [
       "array([<matplotlib.axes._subplots.AxesSubplot object at 0x000002260FE3A848>],\n",
       "      dtype=object)"
      ]
     },
     "execution_count": 5,
     "metadata": {},
     "output_type": "execute_result"
    },
    {
     "data": {
      "image/png": "[encoded data removed]",
      "text/plain": [
       "<Figure size 432x288 with 1 Axes>"
      ]
     },
     "metadata": {},
     "output_type": "display_data"
    }
   ],
   "source": [
    "# Generate a pie plot showing the distribution of female versus male mice using pandas\n",
    "\n",
    "sex_group = mouse_study_df.groupby('Sex')\n",
    "count_sex = sex_group['Sex'].count()\n",
    "\n",
    "color = ['g', 'y']\n",
    "explosion = (0,0.1)\n",
    "\n",
    "count_sex.plot(kind = 'pie', subplots = True, colors = color, shadow = True, explode = explosion, \n",
    "               title = 'Count by Sex', legend = True)\n"
   ]
  },
  {
   "cell_type": "code",
   "execution_count": 6,
   "metadata": {},
   "outputs": [
    {
     "data": {
      "text/plain": [
       "<matplotlib.legend.Legend at 0x2260fec7888>"
      ]
     },
     "execution_count": 6,
     "metadata": {},
     "output_type": "execute_result"
    },
    {
     "data": {
      "image/png": "[encoded data removed]",
      "text/plain": [
       "<Figure size 432x288 with 1 Axes>"
      ]
     },
     "metadata": {},
     "output_type": "display_data"
    }
   ],
   "source": [
    "# Generate a pie plot showing the distribution of female versus male mice using pyplot\n",
    "\n",
    "sex_group = mouse_study_df.groupby('Sex')\n",
    "count_sex = sex_group['Sex'].count()\n",
    "\n",
    "color = ['g','y']\n",
    "explosion = [0,0.1]\n",
    "label = ['Female', 'Male']\n",
    "\n",
    "plt.pie(count_sex, explode = explosion, colors = color, labels = label, shadow = True)\n",
    "plt.title('Count by Sex')\n",
    "plt.ylabel('Sex')\n",
    "plt.legend(label)"
   ]
  },
  {
   "cell_type": "markdown",
   "metadata": {},
   "source": [
    "## Quartiles, outliers and boxplots"
   ]
  },
  {
   "cell_type": "code",
   "execution_count": 7,
   "metadata": {},
   "outputs": [
    {
     "name": "stdout",
     "output_type": "stream",
     "text": [
      "Capomulin IQR: 7.781863460000004\n",
      "Ramicane IQR: 9.098536719999998\n",
      "Infubinol IQR: 11.477135160000003\n",
      "Ceftamin IQR: 15.577752179999997\n"
     ]
    }
   ],
   "source": [
    "# Calculate the final tumor volume of each mouse across four of the most promising treatment regimens:\n",
    "# Capomulin, Ramicane, Infubinol, and Ceftamin.\n",
    "Capomulin = mouse_study_df.loc[mouse_study_df['Drug Regimen'] == 'Capomulin']                             \n",
    "Capomulin = pd.DataFrame(Capomulin.groupby('Mouse ID')['Timepoint'].max())\n",
    "Capomulin = Capomulin.merge(mouse_study_df, how = 'left', on = ['Mouse ID','Timepoint'])\n",
    "Capomulin = Capomulin.rename(columns = {'Tumor Volume (mm3)':'Capomulin'})\n",
    "\n",
    "Ramicane = mouse_study_df.loc[mouse_study_df['Drug Regimen'] == 'Ramicane']\n",
    "Ramicane = pd.DataFrame(Ramicane.groupby('Mouse ID')['Timepoint'].max())\n",
    "Ramicane = Ramicane.merge(mouse_study_df, how = 'left', on = ['Mouse ID','Timepoint'])\n",
    "Ramicane = Ramicane.rename(columns = {'Tumor Volume (mm3)':'Ramicane'})\n",
    "\n",
    "Infubinol = mouse_study_df.loc[mouse_study_df['Drug Regimen'] == 'Infubinol']                             \n",
    "Infubinol = pd.DataFrame(Infubinol.groupby('Mouse ID')['Timepoint'].max())\n",
    "Infubinol = Infubinol.merge(mouse_study_df, how = 'left', on = ['Mouse ID','Timepoint'])\n",
    "Infubinol = Infubinol.rename(columns = {'Tumor Volume (mm3)':'Infubinol'})\n",
    "\n",
    "Ceftamin = mouse_study_df.loc[mouse_study_df['Drug Regimen'] == 'Ceftamin']                             \n",
    "Ceftamin = pd.DataFrame(Ceftamin.groupby('Mouse ID')['Timepoint'].max())\n",
    "Ceftamin = Ceftamin.merge(mouse_study_df, how = 'left', on = ['Mouse ID','Timepoint'])\n",
    "Ceftamin = Ceftamin.rename(columns = {'Tumor Volume (mm3)':'Ceftamin'})\n",
    "\n",
    "\n",
    "# Calculate the IQR and quantitatively determine if there are any potential outliers. \n",
    "Capomulin_quantiles = Capomulin['Capomulin'].quantile([.25,.5,.75])\n",
    "Capomulin_lowerq = Capomulin_quantiles[0.25]\n",
    "Capomulin_upperq = Capomulin_quantiles[0.75]\n",
    "Capomulin_iqr = Capomulin_upperq - Capomulin_lowerq\n",
    "\n",
    "print(f'Capomulin IQR: {Capomulin_iqr}')\n",
    "\n",
    "Ramicane_quantiles = Ramicane['Ramicane'].quantile([.25,.5,.75])\n",
    "Ramicane_lowerq = Ramicane_quantiles[0.25]\n",
    "Ramicane_upperq = Ramicane_quantiles[0.75]\n",
    "Ramicane_iqr = Ramicane_upperq - Ramicane_lowerq\n",
    "\n",
    "print(f'Ramicane IQR: {Ramicane_iqr}')\n",
    "\n",
    "Infubinol_quantiles = Infubinol['Infubinol'].quantile([.25,.5,.75])\n",
    "Infubinol_lowerq = Infubinol_quantiles[0.25]\n",
    "Infubinol_upperq = Infubinol_quantiles[0.75]\n",
    "Infubinol_iqr = Infubinol_upperq - Infubinol_lowerq\n",
    "\n",
    "print(f'Infubinol IQR: {Infubinol_iqr}')\n",
    "\n",
    "Ceftamin_quantiles = Ceftamin['Ceftamin'].quantile([.25,.5,.75])\n",
    "Ceftamin_lowerq = Ceftamin_quantiles[0.25]\n",
    "Ceftamin_upperq = Ceftamin_quantiles[0.75]\n",
    "Ceftamin_iqr = Ceftamin_upperq - Ceftamin_lowerq\n",
    "\n",
    "print(f'Ceftamin IQR: {Ceftamin_iqr}')\n",
    "\n",
    "\n"
   ]
  },
  {
   "cell_type": "code",
   "execution_count": 8,
   "metadata": {
    "scrolled": true
   },
   "outputs": [
    {
     "data": {
      "text/plain": [
       "Text(0, 0.5, 'Tumor Volume')"
      ]
     },
     "execution_count": 8,
     "metadata": {},
     "output_type": "execute_result"
    },
    {
     "data": {
      "image/png": "[encoded data removed]",
      "text/plain": [
       "<Figure size 432x288 with 1 Axes>"
      ]
     },
     "metadata": {
      "needs_background": "light"
     },
     "output_type": "display_data"
    }
   ],
   "source": [
    "# Generate a box plot of the final tumor volume of each mouse across four regimens of interest\n",
    "tumor_volume_df = Capomulin.merge(Ramicane, how = 'outer', on  = 'Timepoint')\n",
    "tumor_volume_df = tumor_volume_df.merge(Infubinol, how = 'outer', on = 'Timepoint')\n",
    "tumor_volume_df = tumor_volume_df.merge(Ceftamin, how = 'outer', on = 'Timepoint')\n",
    "tumor_volume_df\n",
    "\n",
    "boxplot_chart = tumor_volume_df.boxplot(column=['Capomulin', 'Ramicane', 'Infubinol', 'Ceftamin'])\n",
    "boxplot_chart.set_title('Final Tumor Volume per Regimen')\n",
    "boxplot_chart.set_ylabel('Tumor Volume')"
   ]
  },
  {
   "cell_type": "markdown",
   "metadata": {},
   "source": [
    "## Line and scatter plots"
   ]
  },
  {
   "cell_type": "code",
   "execution_count": 26,
   "metadata": {},
   "outputs": [
    {
     "data": {
      "image/png": "[encoded data removed]",
      "text/plain": [
       "<Figure size 432x288 with 1 Axes>"
      ]
     },
     "metadata": {
      "needs_background": "light"
     },
     "output_type": "display_data"
    }
   ],
   "source": [
    "# Generate a line plot of time point versus tumor volume for a mouse treated with Capomulin\n",
    "\n",
    "Capomulin_data2 = mouse_study_df.loc[mouse_study_df['Drug Regimen'] == 'Capomulin']\n",
    "Capomulin_data2 = Capomulin_data2.loc[Capomulin_data2['Mouse ID'] == 's185']\n",
    "#Capomulin_data2 = Capomulin_data2.merge(mouse_study_df, how = 'left', on = 'Mouse ID')\n",
    "\n",
    "y_axis = Capomulin_data2['Timepoint']\n",
    "x_axis = Capomulin_data2['Tumor Volume (mm3)']\n",
    "\n",
    "plt.plot(x_axis, y_axis )\n",
    "\n",
    "plt.title('Capomulin Time Plot for Mouse s185')\n",
    "plt.xlabel('Tumor Volume (mm3)')\n",
    "plt.ylabel('Timepoints')\n",
    "plt.show()\n"
   ]
  },
  {
   "cell_type": "code",
   "execution_count": 25,
   "metadata": {},
   "outputs": [
    {
     "data": {
      "image/png": "[encoded data removed]",
      "text/plain": [
       "<Figure size 432x288 with 1 Axes>"
      ]
     },
     "metadata": {
      "needs_background": "light"
     },
     "output_type": "display_data"
    }
   ],
   "source": [
    "# Generate a scatter plot of mouse weight versus average tumor volume for the Capomulin regimen\n",
    "Capomulin_data = pd.DataFrame(mouse_study_df.loc[mouse_study_df['Drug Regimen'] == 'Capomulin'])\n",
    "Capomulin_data = pd.DataFrame(Capomulin_data.groupby('Weight (g)')['Tumor Volume (mm3)'].mean())\n",
    "Capomulin_data = Capomulin_data.reset_index()\n",
    "#Capomulin_tumor_avg = Capomulin_data.groupby('Weight (g)')['Tumor Volume (mm3)'].mean()\n",
    "\n",
    "x = Capomulin_data['Weight (g)']\n",
    "y = Capomulin_data['Tumor Volume (mm3)'] \n",
    "\n",
    "plt.scatter(x, y, marker = 'o', facecolors = 'r', edgecolors = 'b', alpha = 1)\n",
    "plt.title('Capomulin Mouse Weight (g) Over Time')\n",
    "plt.xlabel('Mouee Weight (g)')\n",
    "plt.ylabel('Average Tumor Volume (mm3)')\n",
    "plt.grid()\n",
    "plt.show()\n"
   ]
  },
  {
   "cell_type": "code",
   "execution_count": 39,
   "metadata": {
    "scrolled": true
   },
   "outputs": [
    {
     "name": "stdout",
     "output_type": "stream",
     "text": [
      "The correlation coefficient between mouse weight and average tumor volume is 0.95\n"
     ]
    },
    {
     "data": {
      "image/png": "[encoded data removed]",
      "text/plain": [
       "<Figure size 432x288 with 1 Axes>"
      ]
     },
     "metadata": {
      "needs_background": "light"
     },
     "output_type": "display_data"
    }
   ],
   "source": [
    "# Calculate the correlation coefficient and linear regression model for mouse weight and average tumor\n",
    "# volume for the Capomulin regimen\n",
    "\n",
    "x = Capomulin_data['Weight (g)']\n",
    "y = Capomulin_data['Tumor Volume (mm3)']\n",
    "data = y\n",
    "\n",
    "print(f\"The correlation coefficient between mouse weight and average tumor volume is {round(st.pearsonr(x,y)[0],2)}\")\n",
    "\n",
    "\n",
    "# Add the linear regression equation to scatter plot\n",
    "(slope, intercept,rvalue,pvalue,stderr) = st.linregress(x,data)\n",
    "regress_values = x * slope + intercept\n",
    "\n",
    "plt.scatter(x, y, marker = 'o', facecolors = 'r', edgecolors = 'b', alpha = 1)\n",
    "plt.plot(x,regress_values)\n",
    "plt.title('Capomulin Mouse Weight (g) Over Time')\n",
    "plt.xlabel('Mouee Weight (g)')\n",
    "plt.ylabel('Average Tumor Volume (mm3)')\n",
    "plt.grid()\n",
    "plt.show()"
   ]
  },
  {
   "cell_type": "code",
   "execution_count": null,
   "metadata": {},
   "outputs": [],
   "source": []
  }
 ],
 "metadata": {
  "anaconda-cloud": {},
  "kernelspec": {
   "display_name": "Python 3",
   "language": "python",
   "name": "python3"
  },
  "language_info": {
   "codemirror_mode": {
    "name": "ipython",
    "version": 3
   },
   "file_extension": ".py",
   "mimetype": "text/x-python",
   "name": "python",
   "nbconvert_exporter": "python",
   "pygments_lexer": "ipython3",
   "version": "3.7.4"
  }
 },
 "nbformat": 4,
 "nbformat_minor": 2
}
